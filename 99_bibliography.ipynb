{
  "cells": [
    {
      "cell_type": "markdown",
      "metadata": {},
      "source": [
        "<!-- `r if (knitr::is_html_output()) ' -->\n",
        "<!-- # Bibliography {-} -->\n",
        "<!-- '` -->\n",
        "```{bibliography, path=\"book.bib\"}\n"
      ],
      "id": "6fe1c69f"
    }
  ],
  "metadata": {
    "kernelspec": {
      "name": "python3",
      "language": "python",
      "display_name": "Python 3 (ipykernel)"
    }
  },
  "nbformat": 4,
  "nbformat_minor": 5
}